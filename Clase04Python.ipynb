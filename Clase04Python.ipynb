{
  "nbformat": 4,
  "nbformat_minor": 0,
  "metadata": {
    "colab": {
      "provenance": []
    },
    "kernelspec": {
      "name": "python3",
      "display_name": "Python 3"
    },
    "language_info": {
      "name": "python"
    }
  },
  "cells": [
    {
      "cell_type": "markdown",
      "source": [
        "TALLER #4\n",
        "\n",
        "\n"
      ],
      "metadata": {
        "id": "9zsNV_-Sj-6L"
      }
    },
    {
      "cell_type": "markdown",
      "source": [
        "#3"
      ],
      "metadata": {
        "id": "ooZwLdl6NC68"
      }
    },
    {
      "cell_type": "code",
      "execution_count": null,
      "metadata": {
        "colab": {
          "base_uri": "https://localhost:8080/"
        },
        "id": "ejDgtZ-TTEkv",
        "outputId": "c5b7beba-7551-4df1-fc39-4d672aaed802"
      },
      "outputs": [
        {
          "output_type": "stream",
          "name": "stdout",
          "text": [
            "1\n",
            "2\n",
            "3\n",
            "4\n",
            "5\n",
            "6\n",
            "7\n",
            "8\n",
            "9\n",
            "10\n",
            "11\n",
            "12\n",
            "13\n",
            "14\n",
            "15\n",
            "16\n",
            "17\n",
            "18\n",
            "19\n",
            "20\n",
            "21\n",
            "22\n",
            "23\n",
            "24\n",
            "25\n",
            "total de años cumpidos 25\n"
          ]
        }
      ],
      "source": [
        "# escribir en un programa que pregunte al usuario su edad y muestre por pantalla\n",
        "# todos los años que ha cumplido (desde 1 hasta su edad). ciclo for\n",
        "\n",
        "for i in range(1,26,1):\n",
        "  print(i)\n",
        "\n",
        "print(\"total de años cumpidos 25\")\n"
      ]
    },
    {
      "cell_type": "code",
      "source": [
        "nombre = input(\"Digite su : \")\n",
        "\n",
        "for i in range(1,26):\n",
        "  print(i, nombre)"
      ],
      "metadata": {
        "colab": {
          "base_uri": "https://localhost:8080/"
        },
        "outputId": "716d54d6-0889-4b1d-cede-a5fd5ed4196b",
        "id": "QdiG5c5pYSyY"
      },
      "execution_count": null,
      "outputs": [
        {
          "output_type": "stream",
          "name": "stdout",
          "text": [
            "Digite su : años\n",
            "1 años\n",
            "2 años\n",
            "3 años\n",
            "4 años\n",
            "5 años\n",
            "6 años\n",
            "7 años\n",
            "8 años\n",
            "9 años\n",
            "10 años\n",
            "11 años\n",
            "12 años\n",
            "13 años\n",
            "14 años\n",
            "15 años\n",
            "16 años\n",
            "17 años\n",
            "18 años\n",
            "19 años\n",
            "20 años\n",
            "21 años\n",
            "22 años\n",
            "23 años\n",
            "24 años\n",
            "25 años\n"
          ]
        }
      ]
    },
    {
      "cell_type": "code",
      "source": [
        "nombre = input(\"Digite su nombre: \")\n",
        "\n",
        "for i in range(6):\n",
        "  print(i, nombre)"
      ],
      "metadata": {
        "colab": {
          "base_uri": "https://localhost:8080/"
        },
        "id": "M-gEPMhoO5rY",
        "outputId": "f63316e6-2060-4e91-9cfe-7c94d819abc1"
      },
      "execution_count": null,
      "outputs": [
        {
          "output_type": "stream",
          "name": "stdout",
          "text": [
            "Digite su nombre: Diana\n",
            "0 Diana\n",
            "1 Diana\n",
            "2 Diana\n",
            "3 Diana\n",
            "4 Diana\n",
            "5 Diana\n"
          ]
        }
      ]
    },
    {
      "cell_type": "markdown",
      "source": [
        "#4"
      ],
      "metadata": {
        "id": "FAX5DPQiydzS"
      }
    },
    {
      "cell_type": "code",
      "source": [
        "# escribir un programa que pida al usuario un numero entero positivo y muestre por pantalla todos los numeros\n",
        "# impares desde 1 hasta ese numero separado por comas \n",
        " \n",
        "num = int(input(\"digite numero entero = \"))\n",
        "for w in range(1,num + 1,2):\n",
        "    print(w,end = \",\")"
      ],
      "metadata": {
        "colab": {
          "base_uri": "https://localhost:8080/"
        },
        "id": "uP6PyGQIEF35",
        "outputId": "0d7e0ab1-e568-456d-ca87-85cd35c12106"
      },
      "execution_count": null,
      "outputs": [
        {
          "output_type": "stream",
          "name": "stdout",
          "text": [
            "digite numero entero = 10\n",
            "1,3,5,7,9,"
          ]
        }
      ]
    },
    {
      "cell_type": "markdown",
      "source": [
        "#5"
      ],
      "metadata": {
        "id": "c7WI_Tw5NfWl"
      }
    },
    {
      "cell_type": "code",
      "source": [
        "# encuentra la suma de todos los numeros pares del 1 al 100\n",
        "# variables acumuladora\n",
        "\n",
        "acu = 0\n",
        "\n",
        "for i in range(1,101,2,):\n",
        " # print(i)\n",
        "  acu = acu + 2\n",
        "  print(f\"la suma de todos los numeros pares del 1-100= {acu}\")\n",
        "  "
      ],
      "metadata": {
        "colab": {
          "base_uri": "https://localhost:8080/"
        },
        "id": "Wqcg2pOuNmZw",
        "outputId": "16a59c09-e7e6-4c82-91ee-c27495c709db"
      },
      "execution_count": null,
      "outputs": [
        {
          "output_type": "stream",
          "name": "stdout",
          "text": [
            "la suma de todos los numeros pares del 1-100= 2\n",
            "la suma de todos los numeros pares del 1-100= 4\n",
            "la suma de todos los numeros pares del 1-100= 6\n",
            "la suma de todos los numeros pares del 1-100= 8\n",
            "la suma de todos los numeros pares del 1-100= 10\n",
            "la suma de todos los numeros pares del 1-100= 12\n",
            "la suma de todos los numeros pares del 1-100= 14\n",
            "la suma de todos los numeros pares del 1-100= 16\n",
            "la suma de todos los numeros pares del 1-100= 18\n",
            "la suma de todos los numeros pares del 1-100= 20\n",
            "la suma de todos los numeros pares del 1-100= 22\n",
            "la suma de todos los numeros pares del 1-100= 24\n",
            "la suma de todos los numeros pares del 1-100= 26\n",
            "la suma de todos los numeros pares del 1-100= 28\n",
            "la suma de todos los numeros pares del 1-100= 30\n",
            "la suma de todos los numeros pares del 1-100= 32\n",
            "la suma de todos los numeros pares del 1-100= 34\n",
            "la suma de todos los numeros pares del 1-100= 36\n",
            "la suma de todos los numeros pares del 1-100= 38\n",
            "la suma de todos los numeros pares del 1-100= 40\n",
            "la suma de todos los numeros pares del 1-100= 42\n",
            "la suma de todos los numeros pares del 1-100= 44\n",
            "la suma de todos los numeros pares del 1-100= 46\n",
            "la suma de todos los numeros pares del 1-100= 48\n",
            "la suma de todos los numeros pares del 1-100= 50\n",
            "la suma de todos los numeros pares del 1-100= 52\n",
            "la suma de todos los numeros pares del 1-100= 54\n",
            "la suma de todos los numeros pares del 1-100= 56\n",
            "la suma de todos los numeros pares del 1-100= 58\n",
            "la suma de todos los numeros pares del 1-100= 60\n",
            "la suma de todos los numeros pares del 1-100= 62\n",
            "la suma de todos los numeros pares del 1-100= 64\n",
            "la suma de todos los numeros pares del 1-100= 66\n",
            "la suma de todos los numeros pares del 1-100= 68\n",
            "la suma de todos los numeros pares del 1-100= 70\n",
            "la suma de todos los numeros pares del 1-100= 72\n",
            "la suma de todos los numeros pares del 1-100= 74\n",
            "la suma de todos los numeros pares del 1-100= 76\n",
            "la suma de todos los numeros pares del 1-100= 78\n",
            "la suma de todos los numeros pares del 1-100= 80\n",
            "la suma de todos los numeros pares del 1-100= 82\n",
            "la suma de todos los numeros pares del 1-100= 84\n",
            "la suma de todos los numeros pares del 1-100= 86\n",
            "la suma de todos los numeros pares del 1-100= 88\n",
            "la suma de todos los numeros pares del 1-100= 90\n",
            "la suma de todos los numeros pares del 1-100= 92\n",
            "la suma de todos los numeros pares del 1-100= 94\n",
            "la suma de todos los numeros pares del 1-100= 96\n",
            "la suma de todos los numeros pares del 1-100= 98\n",
            "la suma de todos los numeros pares del 1-100= 100\n"
          ]
        }
      ]
    }
  ]
}