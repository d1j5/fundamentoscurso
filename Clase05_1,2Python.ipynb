{
  "nbformat": 4,
  "nbformat_minor": 0,
  "metadata": {
    "colab": {
      "provenance": []
    },
    "kernelspec": {
      "name": "python3",
      "display_name": "Python 3"
    },
    "language_info": {
      "name": "python"
    }
  },
  "cells": [
    {
      "cell_type": "markdown",
      "source": [
        "Taller #5"
      ],
      "metadata": {
        "id": "AzyvA7VC99xW"
      }
    },
    {
      "cell_type": "markdown",
      "source": [
        "#1"
      ],
      "metadata": {
        "id": "drh4VQ_8-EbP"
      }
    },
    {
      "cell_type": "code",
      "execution_count": null,
      "metadata": {
        "colab": {
          "base_uri": "https://localhost:8080/"
        },
        "id": "YBdbXbXAuQF6",
        "outputId": "f67f10a7-cc5d-447b-9f1c-6cbf24d31d1c"
      },
      "outputs": [
        {
          "name": "stdout",
          "output_type": "stream",
          "text": [
            "Daniela Alexandra\n",
            "Gonzalez Rodriguez\n",
            "1007568604\n",
            "Digite su nombre para ser saludado: Daniela Gonzalez\n",
            "HOLA Daniela Gonzalez!!!\n",
            "¿Desea saludar a otra persona?si\n",
            "Digite su nombre para ser saludado: Angie Rodriguez\n",
            "HOLA Angie Rodriguez!!!\n",
            "¿Desea saludar a otra persona?no\n"
          ]
        }
      ],
      "source": [
        "nombre = \"Daniela Alexandra\"\n",
        "print(nombre)\n",
        "apellido = \"Gonzalez Rodriguez\"\n",
        "print(apellido)\n",
        "id = 1007568604\n",
        "print(id)\n",
        "\n",
        "\n",
        "\n",
        "def saludar(nom):\n",
        "  print(\"HOLA \" + nom + \"!!!\")\n",
        "\n",
        "resp = \"si\"\n",
        "while resp == \"si\" or resp == \"s\":\n",
        "  nombre = input(\"Digite su nombre para ser saludado: \")\n",
        "  saludar(nombre)\n",
        "  resp = input(\"¿Desea saludar a otra persona?\")\n",
        "\n",
        "\n",
        "\n",
        "\n",
        "\n",
        "\n",
        "\n"
      ]
    },
    {
      "cell_type": "code",
      "source": [
        "edad = 25 \n",
        "print(edad)\n",
        "anddress = \"cra 93 128 f 20\"\n",
        "print(anddress)\n",
        "\n",
        "\n",
        "\n",
        "def valedad(edad):\n",
        "  if edad > 25:\n",
        "    print(\"eres adulto\")\n",
        "  else:\n",
        "    print(\"eres joven\")\n",
        "\n",
        "resp = \"si\"\n",
        "while resp == \"si\" or resp == \"s\" or resp == \"yes\":\n",
        "  edad= float(input(\"Digite que edad tienes: \"))\n",
        "  valedad(edad)\n",
        "  resp = input(\"¿Dese realizar otra comparación?\")\n"
      ],
      "metadata": {
        "colab": {
          "base_uri": "https://localhost:8080/"
        },
        "id": "fJk-s0jfvCVZ",
        "outputId": "78b61aa4-ccaa-4a24-91c4-f1d1a2ba6b48"
      },
      "execution_count": null,
      "outputs": [
        {
          "name": "stdout",
          "output_type": "stream",
          "text": [
            "25\n",
            "cra 93 128 f 20\n",
            "Digite que edad tienes: 24\n",
            "eres joven\n",
            "¿Dese realizar otra comparación?si\n",
            "Digite que edad tienes: 30\n",
            "eres adulto\n",
            "¿Dese realizar otra comparación?si\n",
            "Digite que edad tienes: 12\n",
            "eres joven\n",
            "¿Dese realizar otra comparación?yes\n",
            "Digite que edad tienes: 45\n",
            "eres adulto\n",
            "¿Dese realizar otra comparación?no\n"
          ]
        }
      ]
    },
    {
      "cell_type": "code",
      "source": [
        "civilstatus = \"soltera\"\n",
        "print(civilstatus)\n",
        "phone = 3043444337\n",
        "print(phone)\n",
        "\n",
        "\n",
        "\n",
        "def valcivil_status(civil_status):\n",
        "  if civil_status :\n",
        "    print(\"eres soltera\")\n",
        "\n",
        "resp = \"si\"\n",
        "while resp == \"si\" or resp == \"s\" or resp == \"yes\":\n",
        "  civil_status= (input(\"Digite tu civil_status: \"))\n",
        "  valcivil_status(civil_status)\n",
        "  resp = input(\"¿Dese realizar otra comparación?\")\n"
      ],
      "metadata": {
        "colab": {
          "base_uri": "https://localhost:8080/"
        },
        "id": "DiU_sD9vwKGT",
        "outputId": "5917bce9-7f9e-49fe-d736-fefeade6cc11"
      },
      "execution_count": null,
      "outputs": [
        {
          "name": "stdout",
          "output_type": "stream",
          "text": [
            "soltera\n",
            "3043444337\n",
            "Digite tu civil_status: soltera\n",
            "eres soltera\n",
            "¿Dese realizar otra comparación?no\n"
          ]
        }
      ]
    },
    {
      "cell_type": "code",
      "source": [
        "numberofchildre = 0\n",
        "print(numberofchildre)\n",
        "height = \"1.56cm\"\n",
        "print(height)\n",
        "dateofgire = \"dia 18\"\n",
        "print(dateofgire)\n",
        "mes = \"agosto\"\n",
        "print(mes)\n",
        "año = 2022\n",
        "print(año)\n",
        "\n",
        "\n",
        "def valchildre(childre):\n",
        "  if childre > 0:\n",
        "    print(\"si tienen childre\")\n",
        "  else:\n",
        "    print(\"no tiene childre\")\n",
        "\n",
        "resp = \"si\"\n",
        "while resp == \"si\" or resp == \"s\" or resp == \"yes\":\n",
        "  childre= float(input(\"Digite cuantos childre tiene: \"))\n",
        "  valchildre(childre)\n",
        "  resp = input(\"¿Dese realizar otra comparación?\")\n",
        "\n",
        "\n",
        "\n",
        "\n",
        "\n",
        "def valestatura(est):\n",
        "  if est > 1.56:\n",
        "    print(\"Eres una persona ALTA\")\n",
        "  else:\n",
        "    print(\"Eres una persona BAJA\")\n",
        "\n",
        "resp = \"si\"\n",
        "while resp == \"si\" or resp == \"s\" or resp == \"yes\":\n",
        "  estatura = float(input(\"Digite su estatura: \"))\n",
        "  valestatura(estatura)\n",
        "  resp = input(\"¿Dese realizar otra comparación?\")\n",
        "\n"
      ],
      "metadata": {
        "colab": {
          "base_uri": "https://localhost:8080/"
        },
        "id": "tRhILlshwiQa",
        "outputId": "2d55f3cc-5e67-4968-dd2d-213a4ec385c4"
      },
      "execution_count": null,
      "outputs": [
        {
          "name": "stdout",
          "output_type": "stream",
          "text": [
            "0\n",
            "1.56cm\n",
            "dia 18\n",
            "agosto\n",
            "2022\n",
            "Digite cuantos childre tiene: 2\n",
            "si tienen childre\n",
            "¿Dese realizar otra comparación?si\n",
            "Digite cuantos childre tiene: 0\n",
            "no tiene childre\n",
            "¿Dese realizar otra comparación?no\n",
            "Digite su estatura: 1.80\n",
            "Eres una persona ALTA\n",
            "¿Dese realizar otra comparación?si\n",
            "Digite su estatura: 1.52\n",
            "Eres una persona BAJA\n",
            "¿Dese realizar otra comparación?no\n"
          ]
        }
      ]
    },
    {
      "cell_type": "code",
      "source": [
        "salary = 1300000\n",
        "print(salary)\n",
        "workingdays = 1.095\n",
        "print(workingdays)\n",
        "peso = 48\n",
        "print(peso)\n",
        "\n",
        "\n",
        "\n",
        "def valpeso(peso):\n",
        "  if peso > 0.48:\n",
        "    print(\"estas bien de peso\")\n",
        "  else:\n",
        "    print(\"estas mal de peso\")\n",
        "\n",
        "resp = \"si\"\n",
        "while resp == \"si\" or resp == \"s\" or resp == \"yes\":\n",
        "  peso = float(input(\"Digite su digite su peso: \"))\n",
        "  valpeso(peso)\n",
        "  resp = input(\"¿Dese realizar otra comparación?\")\n",
        "\n",
        "\n",
        "\n"
      ],
      "metadata": {
        "colab": {
          "base_uri": "https://localhost:8080/"
        },
        "id": "tNiLjjyIxoth",
        "outputId": "d9086fa9-4719-4c1b-de6a-8af6462264ed"
      },
      "execution_count": null,
      "outputs": [
        {
          "name": "stdout",
          "output_type": "stream",
          "text": [
            "1300000\n",
            "1.095\n",
            "48\n",
            "Digite su digite su peso: 45\n",
            "estas bien de peso\n",
            "¿Dese realizar otra comparación?si\n",
            "Digite su digite su peso: 45\n",
            "estas bien de peso\n",
            "¿Dese realizar otra comparación?yes\n",
            "Digite su digite su peso: 50\n",
            "estas bien de peso\n",
            "¿Dese realizar otra comparación?80\n"
          ]
        }
      ]
    },
    {
      "cell_type": "markdown",
      "source": [
        "#2"
      ],
      "metadata": {
        "id": "cVUwhOyU-JyG"
      }
    },
    {
      "cell_type": "code",
      "source": [
        "compra = float(input(\"¿cuanto es el valor de la compra?\"))\n",
        "# calculo del descuento\n",
        "descuento = compra * 0.15\n",
        "# suma de compra mas descuento\n",
        "total = compra - descuento \n",
        "# muestro total del descuento\n",
        "print(\"el descuento es= ${:,.0f} y el total a pagar es= ${:,.0f}\".format(descuento,total))\n",
        "\n",
        "\n",
        "def valdescuento(desc):\n",
        "  if desc > 52.500:\n",
        "    print(\"si se hara el descuento\")\n",
        "  else:\n",
        "    print(\"no se  hara descuento\")\n",
        "\n",
        "resp = \"si\"\n",
        "while resp == \"si\" or resp == \"s\" or resp == \"yes\":\n",
        "  descuento = float(input(\"Digite su descuento: \"))\n",
        "  valdescuento(descuento)\n",
        "  resp = input(\"¿Dese realizar otra comparacion?\")\n"
      ],
      "metadata": {
        "colab": {
          "base_uri": "https://localhost:8080/"
        },
        "id": "HPyBcbMw-N2U",
        "outputId": "c2136627-d06f-4393-ec5f-35e23ee72d51"
      },
      "execution_count": 60,
      "outputs": [
        {
          "name": "stdout",
          "output_type": "stream",
          "text": [
            "¿cuanto es el valor de la compra?350000\n",
            "el descuento es= $52,500 y el total a pagar es= $297,500\n",
            "Digite su descuento: 52500\n",
            "si se hara el descuento\n",
            "¿Dese realizar otra comparacion?si\n",
            "Digite su descuento: 60200\n",
            "si se hara el descuento\n",
            "¿Dese realizar otra comparacion?yes\n",
            "Digite su descuento: 0.25\n",
            "no se  hara descuento\n",
            "¿Dese realizar otra comparacion?no\n"
          ]
        }
      ]
    },
    {
      "cell_type": "code",
      "source": [
        "\n",
        "# un alumno desea saber cual sera su calificacion final en la materia de algoritmos.dicha\n",
        "# calificacion se compone de 3 examenes parciales.\n",
        "\n",
        "def suma(ex1, ex2,ex3):\n",
        "  res = ex1 + ex2 + ex3\n",
        "  return res\n",
        "\n",
        "ex1 = float(input(\"Digite el examen 1: \"))\n",
        "ex2 = float(input(\"Digite el examen 2: \"))\n",
        "ex3 = float(input(\"digite el examen 3:\"))\n",
        "resultado = suma(ex1, ex2, ex3)  \n",
        "print(f\"El resultado es = {resultado}\")\n",
        "\n",
        "\n",
        "exam1 = float(input(\"digite el exam1 \"))\n",
        "exam2 = float(input(\"digite el exam2 \"))\n",
        "exam3 = float(input(\"digite el exam3 \"))\n",
        "\n",
        "cali = round((exam1 + exam2 + exam3) / 3 , 2)\n",
        "print(f\"la calificacion es= {cali}\")\n"
      ],
      "metadata": {
        "colab": {
          "base_uri": "https://localhost:8080/"
        },
        "id": "mCO92WtQ-ak0",
        "outputId": "af82b845-a1c7-409c-f838-14ffecbe332f"
      },
      "execution_count": 61,
      "outputs": [
        {
          "output_type": "stream",
          "name": "stdout",
          "text": [
            "Digite el examen 1: 3.1\n",
            "Digite el examen 2: 3.5\n",
            "digite el examen 3:4.5\n",
            "El resultado es = 11.1\n",
            "digite el exam1 3.1\n",
            "digite el exam2 3.5\n",
            "digite el exam3 4.5\n",
            "la calificacion es= 3.7\n"
          ]
        }
      ]
    },
    {
      "cell_type": "code",
      "source": [
        "# un profesor desea saber que porcentaje de hombres y que porcentaje de mujeres\n",
        "# hay en un grupo de estudiantes \n",
        "women  = float(input(\"numero de women  \" ))\n",
        "man = float(input(\"numero de man \"))\n",
        "res = women + man \n",
        "print( res)\n",
        "\n",
        "\n",
        "def suma(w1, m2):\n",
        "  res = w1 + m2\n",
        "  return res\n",
        "\n",
        "w1 = int(input(\"Digite el número de women: \"))\n",
        "m2 = int(input(\"Digite el numero de man: \"))\n",
        "resultado = suma(w1, m2)\n",
        "print(f\"El total de estudiantes es = {resultado}\")"
      ],
      "metadata": {
        "colab": {
          "base_uri": "https://localhost:8080/"
        },
        "id": "ZjA84aX3-qQY",
        "outputId": "85645071-937a-489d-e4c4-05d115e62e86"
      },
      "execution_count": 63,
      "outputs": [
        {
          "output_type": "stream",
          "name": "stdout",
          "text": [
            "numero de women  17\n",
            "numero de man 10\n",
            "27.0\n",
            "Digite el número de women: 17\n",
            "Digite el numero de man: 10\n",
            "El total de estudiantes es = 27\n"
          ]
        }
      ]
    }
  ]
}